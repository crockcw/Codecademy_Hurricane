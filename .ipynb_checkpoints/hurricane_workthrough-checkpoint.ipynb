{
 "cells": [
  {
   "cell_type": "code",
   "execution_count": 18,
   "id": "c75ddc24",
   "metadata": {},
   "outputs": [],
   "source": [
    "# names of hurricanes\n",
    "names = ['Cuba I', 'San Felipe II Okeechobee', 'Bahamas', 'Cuba II', 'CubaBrownsville', 'Tampico', 'Labor Day', 'New England', 'Carol', 'Janet', 'Carla', 'Hattie', 'Beulah', 'Camille', 'Edith', 'Anita', 'David', 'Allen', 'Gilbert', 'Hugo', 'Andrew', 'Mitch', 'Isabel', 'Ivan', 'Emily', 'Katrina', 'Rita', 'Wilma', 'Dean', 'Felix', 'Matthew', 'Irma', 'Maria', 'Michael']\n",
    "\n",
    "# months of hurricanes\n",
    "months = ['October', 'September', 'September', 'November', 'August', 'September', 'September', 'September', 'September', 'September', 'September', 'October', 'September', 'August', 'September', 'September', 'August', 'August', 'September', 'September', 'August', 'October', 'September', 'September', 'July', 'August', 'September', 'October', 'August', 'September', 'October', 'September', 'September', 'October']\n",
    "\n",
    "# years of hurricanes\n",
    "years = [1924, 1928, 1932, 1932, 1933, 1933, 1935, 1938, 1953, 1955, 1961, 1961, 1967, 1969, 1971, 1977, 1979, 1980, 1988, 1989, 1992, 1998, 2003, 2004, 2005, 2005, 2005, 2005, 2007, 2007, 2016, 2017, 2017, 2018]\n",
    "\n",
    "# maximum sustained winds (mph) of hurricanes\n",
    "max_sustained_winds = [165, 160, 160, 175, 160, 160, 185, 160, 160, 175, 175, 160, 160, 175, 160, 175, 175, 190, 185, 160, 175, 180, 165, 165, 160, 175, 180, 185, 175, 175, 165, 180, 175, 160]\n",
    "\n",
    "# areas affected by each hurricane\n",
    "areas_affected = [['Central America', 'Mexico', 'Cuba', 'Florida', 'The Bahamas'], ['Lesser Antilles', 'The Bahamas', 'United States East Coast', 'Atlantic Canada'], ['The Bahamas', 'Northeastern United States'], ['Lesser Antilles', 'Jamaica', 'Cayman Islands', 'Cuba', 'The Bahamas', 'Bermuda'], ['The Bahamas', 'Cuba', 'Florida', 'Texas', 'Tamaulipas'], ['Jamaica', 'Yucatn Peninsula'], ['The Bahamas', 'Florida', 'Georgia', 'The Carolinas', 'Virginia'], ['Southeastern United States', 'Northeastern United States', 'Southwestern Quebec'], ['Bermuda', 'New England', 'Atlantic Canada'], ['Lesser Antilles', 'Central America'], ['Texas', 'Louisiana', 'Midwestern United States'], ['Central America'], ['The Caribbean', 'Mexico', 'Texas'], ['Cuba', 'United States Gulf Coast'], ['The Caribbean', 'Central America', 'Mexico', 'United States Gulf Coast'], ['Mexico'], ['The Caribbean', 'United States East coast'], ['The Caribbean', 'Yucatn Peninsula', 'Mexico', 'South Texas'], ['Jamaica', 'Venezuela', 'Central America', 'Hispaniola', 'Mexico'], ['The Caribbean', 'United States East Coast'], ['The Bahamas', 'Florida', 'United States Gulf Coast'], ['Central America', 'Yucatn Peninsula', 'South Florida'], ['Greater Antilles', 'Bahamas', 'Eastern United States', 'Ontario'], ['The Caribbean', 'Venezuela', 'United States Gulf Coast'], ['Windward Islands', 'Jamaica', 'Mexico', 'Texas'], ['Bahamas', 'United States Gulf Coast'], ['Cuba', 'United States Gulf Coast'], ['Greater Antilles', 'Central America', 'Florida'], ['The Caribbean', 'Central America'], ['Nicaragua', 'Honduras'], ['Antilles', 'Venezuela', 'Colombia', 'United States East Coast', 'Atlantic Canada'], ['Cape Verde', 'The Caribbean', 'British Virgin Islands', 'U.S. Virgin Islands', 'Cuba', 'Florida'], ['Lesser Antilles', 'Virgin Islands', 'Puerto Rico', 'Dominican Republic', 'Turks and Caicos Islands'], ['Central America', 'United States Gulf Coast (especially Florida Panhandle)']]\n",
    "\n",
    "# damages (USD($)) of hurricanes\n",
    "damages = ['Damages not recorded', '100M', 'Damages not recorded', '40M', '27.9M', '5M', 'Damages not recorded', '306M', '2M', '65.8M', '326M', '60.3M', '208M', '1.42B', '25.4M', 'Damages not recorded', '1.54B', '1.24B', '7.1B', '10B', '26.5B', '6.2B', '5.37B', '23.3B', '1.01B', '125B', '12B', '29.4B', '1.76B', '720M', '15.1B', '64.8B', '91.6B', '25.1B']\n",
    "\n",
    "# deaths for each hurricane\n",
    "deaths = [90,4000,16,3103,179,184,408,682,5,1023,43,319,688,259,37,11,2068,269,318,107,65,19325,51,124,17,1836,125,87,45,133,603,138,3057,74]\n"
   ]
  },
  {
   "cell_type": "code",
   "execution_count": 19,
   "id": "0d4ea558",
   "metadata": {},
   "outputs": [],
   "source": [
    "conversion = {\"M\": 10000000, \"B\": 1000000000}\n",
    "def damages_conversion(damages): \n",
    "    updated_damages = list()\n",
    "    for i in damages: \n",
    "        if i == 'Damages not recorded': \n",
    "            updated_damages.append(i)\n",
    "        elif i.find('M') != -1: \n",
    "            updated_damages.append(float(i[0:i.find('M')])*conversion[\"M\"])\n",
    "        elif i.find('B') != -1: \n",
    "            updated_damages.append(float(i[0:i.find('B')])*conversion[\"B\"])\n",
    "    return updated_damages        "
   ]
  },
  {
   "cell_type": "code",
   "execution_count": 21,
   "id": "257715cc",
   "metadata": {
    "scrolled": true
   },
   "outputs": [
    {
     "name": "stdout",
     "output_type": "stream",
     "text": [
      "['Damages not recorded', 1000000000.0, 'Damages not recorded', 400000000.0, 279000000.0, 50000000.0, 'Damages not recorded', 3060000000.0, 20000000.0, 658000000.0, 3260000000.0, 603000000.0, 2080000000.0, 1420000000.0, 254000000.0, 'Damages not recorded', 1540000000.0, 1240000000.0, 7100000000.0, 10000000000.0, 26500000000.0, 6200000000.0, 5370000000.0, 23300000000.0, 1010000000.0, 125000000000.0, 12000000000.0, 29400000000.0, 1760000000.0, 7200000000.0, 15100000000.0, 64800000000.0, 91600000000.0, 25100000000.0]\n"
     ]
    }
   ],
   "source": [
    "updated_damages = damages_conversion(damages)\n",
    "print(updated_damages)"
   ]
  },
  {
   "cell_type": "code",
   "execution_count": 22,
   "id": "bb9c231c",
   "metadata": {},
   "outputs": [],
   "source": [
    "#create hurricane dictionary \n",
    "def hurricane_dict(names, months, years, max_sustained_winds, areas_affected, updated_damages, deaths):\n",
    "    hurricanes = dict()\n",
    "    for i in range(len(names)): \n",
    "        hurricanes[names[i]] = {'Name': names[i], 'Month': months[i], 'Year': years[i], 'Max Sustained Winds': max_sustained_winds[i], \n",
    "                               'Areas Affected': areas_affected[i], 'Damage': updated_damages[i], 'Deaths': deaths[i]}\n",
    "    return hurricanes"
   ]
  },
  {
   "cell_type": "code",
   "execution_count": 65,
   "id": "25e46bb7",
   "metadata": {},
   "outputs": [
    {
     "name": "stdout",
     "output_type": "stream",
     "text": [
      "{'Cuba I': {'Name': 'Cuba I', 'Month': 'October', 'Year': 1924, 'Max Sustained Winds': 165, 'Areas Affected': ['Central America', 'Mexico', 'Cuba', 'Florida', 'The Bahamas'], 'Damage': 'Damages not recorded', 'Deaths': 90}, 'San Felipe II Okeechobee': {'Name': 'San Felipe II Okeechobee', 'Month': 'September', 'Year': 1928, 'Max Sustained Winds': 160, 'Areas Affected': ['Lesser Antilles', 'The Bahamas', 'United States East Coast', 'Atlantic Canada'], 'Damage': 1000000000.0, 'Deaths': 4000}, 'Bahamas': {'Name': 'Bahamas', 'Month': 'September', 'Year': 1932, 'Max Sustained Winds': 160, 'Areas Affected': ['The Bahamas', 'Northeastern United States'], 'Damage': 'Damages not recorded', 'Deaths': 16}, 'Cuba II': {'Name': 'Cuba II', 'Month': 'November', 'Year': 1932, 'Max Sustained Winds': 175, 'Areas Affected': ['Lesser Antilles', 'Jamaica', 'Cayman Islands', 'Cuba', 'The Bahamas', 'Bermuda'], 'Damage': 400000000.0, 'Deaths': 3103}, 'CubaBrownsville': {'Name': 'CubaBrownsville', 'Month': 'August', 'Year': 1933, 'Max Sustained Winds': 160, 'Areas Affected': ['The Bahamas', 'Cuba', 'Florida', 'Texas', 'Tamaulipas'], 'Damage': 279000000.0, 'Deaths': 179}, 'Tampico': {'Name': 'Tampico', 'Month': 'September', 'Year': 1933, 'Max Sustained Winds': 160, 'Areas Affected': ['Jamaica', 'Yucatn Peninsula'], 'Damage': 50000000.0, 'Deaths': 184}, 'Labor Day': {'Name': 'Labor Day', 'Month': 'September', 'Year': 1935, 'Max Sustained Winds': 185, 'Areas Affected': ['The Bahamas', 'Florida', 'Georgia', 'The Carolinas', 'Virginia'], 'Damage': 'Damages not recorded', 'Deaths': 408}, 'New England': {'Name': 'New England', 'Month': 'September', 'Year': 1938, 'Max Sustained Winds': 160, 'Areas Affected': ['Southeastern United States', 'Northeastern United States', 'Southwestern Quebec'], 'Damage': 3060000000.0, 'Deaths': 682}, 'Carol': {'Name': 'Carol', 'Month': 'September', 'Year': 1953, 'Max Sustained Winds': 160, 'Areas Affected': ['Bermuda', 'New England', 'Atlantic Canada'], 'Damage': 20000000.0, 'Deaths': 5}, 'Janet': {'Name': 'Janet', 'Month': 'September', 'Year': 1955, 'Max Sustained Winds': 175, 'Areas Affected': ['Lesser Antilles', 'Central America'], 'Damage': 658000000.0, 'Deaths': 1023}, 'Carla': {'Name': 'Carla', 'Month': 'September', 'Year': 1961, 'Max Sustained Winds': 175, 'Areas Affected': ['Texas', 'Louisiana', 'Midwestern United States'], 'Damage': 3260000000.0, 'Deaths': 43}, 'Hattie': {'Name': 'Hattie', 'Month': 'October', 'Year': 1961, 'Max Sustained Winds': 160, 'Areas Affected': ['Central America'], 'Damage': 603000000.0, 'Deaths': 319}, 'Beulah': {'Name': 'Beulah', 'Month': 'September', 'Year': 1967, 'Max Sustained Winds': 160, 'Areas Affected': ['The Caribbean', 'Mexico', 'Texas'], 'Damage': 2080000000.0, 'Deaths': 688}, 'Camille': {'Name': 'Camille', 'Month': 'August', 'Year': 1969, 'Max Sustained Winds': 175, 'Areas Affected': ['Cuba', 'United States Gulf Coast'], 'Damage': 1420000000.0, 'Deaths': 259}, 'Edith': {'Name': 'Edith', 'Month': 'September', 'Year': 1971, 'Max Sustained Winds': 160, 'Areas Affected': ['The Caribbean', 'Central America', 'Mexico', 'United States Gulf Coast'], 'Damage': 254000000.0, 'Deaths': 37}, 'Anita': {'Name': 'Anita', 'Month': 'September', 'Year': 1977, 'Max Sustained Winds': 175, 'Areas Affected': ['Mexico'], 'Damage': 'Damages not recorded', 'Deaths': 11}, 'David': {'Name': 'David', 'Month': 'August', 'Year': 1979, 'Max Sustained Winds': 175, 'Areas Affected': ['The Caribbean', 'United States East coast'], 'Damage': 1540000000.0, 'Deaths': 2068}, 'Allen': {'Name': 'Allen', 'Month': 'August', 'Year': 1980, 'Max Sustained Winds': 190, 'Areas Affected': ['The Caribbean', 'Yucatn Peninsula', 'Mexico', 'South Texas'], 'Damage': 1240000000.0, 'Deaths': 269}, 'Gilbert': {'Name': 'Gilbert', 'Month': 'September', 'Year': 1988, 'Max Sustained Winds': 185, 'Areas Affected': ['Jamaica', 'Venezuela', 'Central America', 'Hispaniola', 'Mexico'], 'Damage': 7100000000.0, 'Deaths': 318}, 'Hugo': {'Name': 'Hugo', 'Month': 'September', 'Year': 1989, 'Max Sustained Winds': 160, 'Areas Affected': ['The Caribbean', 'United States East Coast'], 'Damage': 10000000000.0, 'Deaths': 107}, 'Andrew': {'Name': 'Andrew', 'Month': 'August', 'Year': 1992, 'Max Sustained Winds': 175, 'Areas Affected': ['The Bahamas', 'Florida', 'United States Gulf Coast'], 'Damage': 26500000000.0, 'Deaths': 65}, 'Mitch': {'Name': 'Mitch', 'Month': 'October', 'Year': 1998, 'Max Sustained Winds': 180, 'Areas Affected': ['Central America', 'Yucatn Peninsula', 'South Florida'], 'Damage': 6200000000.0, 'Deaths': 19325}, 'Isabel': {'Name': 'Isabel', 'Month': 'September', 'Year': 2003, 'Max Sustained Winds': 165, 'Areas Affected': ['Greater Antilles', 'Bahamas', 'Eastern United States', 'Ontario'], 'Damage': 5370000000.0, 'Deaths': 51}, 'Ivan': {'Name': 'Ivan', 'Month': 'September', 'Year': 2004, 'Max Sustained Winds': 165, 'Areas Affected': ['The Caribbean', 'Venezuela', 'United States Gulf Coast'], 'Damage': 23300000000.0, 'Deaths': 124}, 'Emily': {'Name': 'Emily', 'Month': 'July', 'Year': 2005, 'Max Sustained Winds': 160, 'Areas Affected': ['Windward Islands', 'Jamaica', 'Mexico', 'Texas'], 'Damage': 1010000000.0, 'Deaths': 17}, 'Katrina': {'Name': 'Katrina', 'Month': 'August', 'Year': 2005, 'Max Sustained Winds': 175, 'Areas Affected': ['Bahamas', 'United States Gulf Coast'], 'Damage': 125000000000.0, 'Deaths': 1836}, 'Rita': {'Name': 'Rita', 'Month': 'September', 'Year': 2005, 'Max Sustained Winds': 180, 'Areas Affected': ['Cuba', 'United States Gulf Coast'], 'Damage': 12000000000.0, 'Deaths': 125}, 'Wilma': {'Name': 'Wilma', 'Month': 'October', 'Year': 2005, 'Max Sustained Winds': 185, 'Areas Affected': ['Greater Antilles', 'Central America', 'Florida'], 'Damage': 29400000000.0, 'Deaths': 87}, 'Dean': {'Name': 'Dean', 'Month': 'August', 'Year': 2007, 'Max Sustained Winds': 175, 'Areas Affected': ['The Caribbean', 'Central America'], 'Damage': 1760000000.0, 'Deaths': 45}, 'Felix': {'Name': 'Felix', 'Month': 'September', 'Year': 2007, 'Max Sustained Winds': 175, 'Areas Affected': ['Nicaragua', 'Honduras'], 'Damage': 7200000000.0, 'Deaths': 133}, 'Matthew': {'Name': 'Matthew', 'Month': 'October', 'Year': 2016, 'Max Sustained Winds': 165, 'Areas Affected': ['Antilles', 'Venezuela', 'Colombia', 'United States East Coast', 'Atlantic Canada'], 'Damage': 15100000000.0, 'Deaths': 603}, 'Irma': {'Name': 'Irma', 'Month': 'September', 'Year': 2017, 'Max Sustained Winds': 180, 'Areas Affected': ['Cape Verde', 'The Caribbean', 'British Virgin Islands', 'U.S. Virgin Islands', 'Cuba', 'Florida'], 'Damage': 64800000000.0, 'Deaths': 138}, 'Maria': {'Name': 'Maria', 'Month': 'September', 'Year': 2017, 'Max Sustained Winds': 175, 'Areas Affected': ['Lesser Antilles', 'Virgin Islands', 'Puerto Rico', 'Dominican Republic', 'Turks and Caicos Islands'], 'Damage': 91600000000.0, 'Deaths': 3057}, 'Michael': {'Name': 'Michael', 'Month': 'October', 'Year': 2018, 'Max Sustained Winds': 160, 'Areas Affected': ['Central America', 'United States Gulf Coast (especially Florida Panhandle)'], 'Damage': 25100000000.0, 'Deaths': 74}}\n"
     ]
    }
   ],
   "source": [
    "hurricanes = hurricane_dict(names, months, years, max_sustained_winds, areas_affected, updated_damages, deaths)\n",
    "print(hurricanes)"
   ]
  },
  {
   "cell_type": "code",
   "execution_count": 42,
   "id": "cf32b3b8",
   "metadata": {},
   "outputs": [],
   "source": [
    "#create dictionary of hurricane by year from current \"hurricanes\" dictionary\n",
    "def hurricane_by_year(hurricanes): \n",
    "    hurricane_by_year = dict()\n",
    "    for i in hurricanes: \n",
    "        hurricane_year = hurricanes[i]['Year']\n",
    "        hurricane_data = hurricanes[i]\n",
    "        if hurricane_year not in hurricane_by_year: \n",
    "            hurricane_by_year[hurricane_year] = [hurricane_data]\n",
    "        else: \n",
    "            hurricane_by_year[hurricane_year].append(hurricane_data)\n",
    "    return hurricane_by_year"
   ]
  },
  {
   "cell_type": "code",
   "execution_count": 66,
   "id": "f9cd5734",
   "metadata": {},
   "outputs": [],
   "source": [
    "#create dictionary of areas affected and the number of times they were hit by storms\n",
    "def affected_area_count(hurricaness): \n",
    "    affected_area_count = dict()\n",
    "    for i in hurricanes:\n",
    "        for area in hurricanes[i]['Areas Affected']:\n",
    "            if area not in affected_area_count: \n",
    "                affected_area_count[area] = 1\n",
    "            else: \n",
    "                affected_area_count[area] += 1\n",
    "    return affected_area_count        "
   ]
  },
  {
   "cell_type": "code",
   "execution_count": 67,
   "id": "e5659ca0",
   "metadata": {},
   "outputs": [],
   "source": [
    "affected_area_frequency = affected_area_count(hurricanes)"
   ]
  },
  {
   "cell_type": "code",
   "execution_count": 68,
   "id": "89578d4a",
   "metadata": {},
   "outputs": [],
   "source": [
    "#show the area most affected by hurricanes\n",
    "def most_affected_area(affected_area_frequency): \n",
    "    affected_area = ''\n",
    "    affected_area_count = 0\n",
    "    for i in affected_area_frequency:\n",
    "        if affected_area_frequency[i] > affected_area_count: \n",
    "            affected_area = i\n",
    "            affected_area_count = affected_area_frequency[i]\n",
    "    return affected_area, affected_area_count       "
   ]
  },
  {
   "cell_type": "code",
   "execution_count": 69,
   "id": "3f5a2512",
   "metadata": {},
   "outputs": [
    {
     "name": "stdout",
     "output_type": "stream",
     "text": [
      "('Central America', 9)\n"
     ]
    }
   ],
   "source": [
    "most_hit_area = print(most_affected_area(affected_area_frequency))"
   ]
  },
  {
   "cell_type": "code",
   "execution_count": 70,
   "id": "c1c53190",
   "metadata": {},
   "outputs": [],
   "source": [
    "#show what the most deadly hurricane from list is\n",
    "def most_deadly_hurricane(hurricanes):\n",
    "    most_deadly_hurricane = ''\n",
    "    death_count = 0\n",
    "    for i in hurricanes: \n",
    "        if hurricanes[i]['Deaths'] > death_count: \n",
    "            most_deadly_hurricane = i\n",
    "            death_count = hurricanes[i]['Deaths']\n",
    "    return most_deadly_hurricane, death_count\n",
    "            "
   ]
  },
  {
   "cell_type": "code",
   "execution_count": 71,
   "id": "af7b0c7a",
   "metadata": {},
   "outputs": [],
   "source": [
    "highest_death_count = most_deadly_hurricane(hurricanes)"
   ]
  },
  {
   "cell_type": "code",
   "execution_count": 72,
   "id": "b1c329f7",
   "metadata": {},
   "outputs": [],
   "source": [
    "#assign hurricanes to mortality scale\n",
    "def mortality_scale(hurricanes): \n",
    "    hurricane_mortality_rating = dict()\n",
    "    for i in hurricanes: \n",
    "        mortality_rating = ''\n",
    "        death_count = hurricanes[i]['Deaths']\n",
    "        hurricane_data = hurricanes[i]\n",
    "        if death_count < 100: \n",
    "            mortality_rating = 0\n",
    "        elif death_count >= 100 and death_count < 500: \n",
    "            mortality_rating = 1\n",
    "        elif death_count >= 500 and death_count < 1000: \n",
    "            mortality_rating = 2\n",
    "        elif death_count >= 1000 and death_count < 10000: \n",
    "            mortality_rating = 3\n",
    "        elif death_count >= 10000: \n",
    "            mortality_rating = 4\n",
    "        \n",
    "        if mortality_rating not in hurricane_mortality_rating: \n",
    "            hurricane_mortality_rating[mortality_rating] = [hurricane_data]\n",
    "        else: \n",
    "            hurricane_mortality_rating[mortality_rating].append(hurricane_data)\n",
    "    return hurricane_mortality_rating"
   ]
  },
  {
   "cell_type": "code",
   "execution_count": 79,
   "id": "f0cc0a90",
   "metadata": {},
   "outputs": [],
   "source": [
    "hurricane_mortality = mortality_scale(hurricanes)"
   ]
  },
  {
   "cell_type": "code",
   "execution_count": 74,
   "id": "d87d272d",
   "metadata": {},
   "outputs": [],
   "source": [
    "def most_expensive_hurricane(hurricanes):\n",
    "    highest_damage_storm = ''\n",
    "    damage_cost = 0\n",
    "    for i in hurricanes:\n",
    "        if hurricanes[i]['Damage'] == 'Damages not recorded':\n",
    "            continue\n",
    "        elif hurricanes[i]['Damage'] > damage_cost:\n",
    "            highest_damage_storm = i\n",
    "            damage_cost = hurricanes[i]['Damage']\n",
    "    return highest_damage_storm, damage_cost"
   ]
  },
  {
   "cell_type": "code",
   "execution_count": 75,
   "id": "4a0b001d",
   "metadata": {},
   "outputs": [
    {
     "name": "stdout",
     "output_type": "stream",
     "text": [
      "('Katrina', 125000000000.0)\n"
     ]
    }
   ],
   "source": [
    "max_damage_hurricane = most_expensive_hurricane(hurricanes)\n",
    "print(max_damage_hurricane)"
   ]
  },
  {
   "cell_type": "code",
   "execution_count": 81,
   "id": "f86ac5f7",
   "metadata": {},
   "outputs": [],
   "source": [
    "#assign each hurricane a damage rating\n",
    "def categorize_by_damage(hurricanes):\n",
    "  \"\"\"Categorize hurricanes by damage and return a dictionary.\"\"\"\n",
    "  damage_scale = {0: 0,\n",
    "                 1: 100000000,\n",
    "                 2: 1000000000,\n",
    "                 3: 10000000000,\n",
    "                 4: 50000000000}\n",
    "  hurricanes_by_damage = {0:[],1:[],2:[],3:[],4:[],5:[]}\n",
    "  for cane in hurricanes:\n",
    "    total_damage = hurricanes[cane]['Damage']\n",
    "    if total_damage == \"Damages not recorded\":\n",
    "      hurricanes_by_damage[0].append(hurricanes[cane])\n",
    "    elif total_damage == damage_scale[0]:\n",
    "      hurricanes_by_damage[0].append(hurricanes[cane])\n",
    "    elif total_damage > damage_scale[0] and total_damage <= damage_scale[1]:\n",
    "      hurricanes_by_damage[1].append(hurricanes[cane])\n",
    "    elif total_damage > damage_scale[1] and total_damage <= damage_scale[2]:\n",
    "      hurricanes_by_damage[2].append(hurricanes[cane])\n",
    "    elif total_damage > damage_scale[2] and total_damage <= damage_scale[3]:\n",
    "      hurricanes_by_damage[3].append(hurricanes[cane])\n",
    "    elif total_damage > damage_scale[3] and total_damage <= damage_scale[4]:\n",
    "      hurricanes_by_damage[4].append(hurricanes[cane])\n",
    "    elif total_damage > damage_scale[4]:\n",
    "      hurricanes_by_damage[5].append(hurricanes[cane])\n",
    "  return hurricanes_by_damage"
   ]
  },
  {
   "cell_type": "code",
   "execution_count": 82,
   "id": "e81a21da",
   "metadata": {},
   "outputs": [],
   "source": [
    "hurricanes_by_damage = categorize_by_damage(hurricanes)"
   ]
  },
  {
   "cell_type": "code",
   "execution_count": 84,
   "id": "07cf949e",
   "metadata": {},
   "outputs": [
    {
     "name": "stdout",
     "output_type": "stream",
     "text": [
      "[{'Name': 'San Felipe II Okeechobee', 'Month': 'September', 'Year': 1928, 'Max Sustained Winds': 160, 'Areas Affected': ['Lesser Antilles', 'The Bahamas', 'United States East Coast', 'Atlantic Canada'], 'Damage': 1000000000.0, 'Deaths': 4000}, {'Name': 'Cuba II', 'Month': 'November', 'Year': 1932, 'Max Sustained Winds': 175, 'Areas Affected': ['Lesser Antilles', 'Jamaica', 'Cayman Islands', 'Cuba', 'The Bahamas', 'Bermuda'], 'Damage': 400000000.0, 'Deaths': 3103}, {'Name': 'CubaBrownsville', 'Month': 'August', 'Year': 1933, 'Max Sustained Winds': 160, 'Areas Affected': ['The Bahamas', 'Cuba', 'Florida', 'Texas', 'Tamaulipas'], 'Damage': 279000000.0, 'Deaths': 179}, {'Name': 'Janet', 'Month': 'September', 'Year': 1955, 'Max Sustained Winds': 175, 'Areas Affected': ['Lesser Antilles', 'Central America'], 'Damage': 658000000.0, 'Deaths': 1023}, {'Name': 'Hattie', 'Month': 'October', 'Year': 1961, 'Max Sustained Winds': 160, 'Areas Affected': ['Central America'], 'Damage': 603000000.0, 'Deaths': 319}, {'Name': 'Edith', 'Month': 'September', 'Year': 1971, 'Max Sustained Winds': 160, 'Areas Affected': ['The Caribbean', 'Central America', 'Mexico', 'United States Gulf Coast'], 'Damage': 254000000.0, 'Deaths': 37}]\n"
     ]
    }
   ],
   "source": [
    "print(hurricanes_by_damage[2])"
   ]
  },
  {
   "cell_type": "code",
   "execution_count": null,
   "id": "64c95747",
   "metadata": {},
   "outputs": [],
   "source": []
  }
 ],
 "metadata": {
  "kernelspec": {
   "display_name": "Python 3 (ipykernel)",
   "language": "python",
   "name": "python3"
  },
  "language_info": {
   "codemirror_mode": {
    "name": "ipython",
    "version": 3
   },
   "file_extension": ".py",
   "mimetype": "text/x-python",
   "name": "python",
   "nbconvert_exporter": "python",
   "pygments_lexer": "ipython3",
   "version": "3.9.7"
  }
 },
 "nbformat": 4,
 "nbformat_minor": 5
}
