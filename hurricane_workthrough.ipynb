{
 "cells": [
  {
   "cell_type": "code",
   "execution_count": 14,
   "id": "c75ddc24",
   "metadata": {},
   "outputs": [],
   "source": [
    "# names of hurricanes\n",
    "names = ['Cuba I', 'San Felipe II Okeechobee', 'Bahamas', 'Cuba II', 'CubaBrownsville', 'Tampico', 'Labor Day', 'New England', 'Carol', 'Janet', 'Carla', 'Hattie', 'Beulah', 'Camille', 'Edith', 'Anita', 'David', 'Allen', 'Gilbert', 'Hugo', 'Andrew', 'Mitch', 'Isabel', 'Ivan', 'Emily', 'Katrina', 'Rita', 'Wilma', 'Dean', 'Felix', 'Matthew', 'Irma', 'Maria', 'Michael']\n",
    "\n",
    "# months of hurricanes\n",
    "months = ['October', 'September', 'September', 'November', 'August', 'September', 'September', 'September', 'September', 'September', 'September', 'October', 'September', 'August', 'September', 'September', 'August', 'August', 'September', 'September', 'August', 'October', 'September', 'September', 'July', 'August', 'September', 'October', 'August', 'September', 'October', 'September', 'September', 'October']\n",
    "\n",
    "# years of hurricanes\n",
    "years = [1924, 1928, 1932, 1932, 1933, 1933, 1935, 1938, 1953, 1955, 1961, 1961, 1967, 1969, 1971, 1977, 1979, 1980, 1988, 1989, 1992, 1998, 2003, 2004, 2005, 2005, 2005, 2005, 2007, 2007, 2016, 2017, 2017, 2018]\n",
    "\n",
    "# maximum sustained winds (mph) of hurricanes\n",
    "max_sustained_winds = [165, 160, 160, 175, 160, 160, 185, 160, 160, 175, 175, 160, 160, 175, 160, 175, 175, 190, 185, 160, 175, 180, 165, 165, 160, 175, 180, 185, 175, 175, 165, 180, 175, 160]\n",
    "\n",
    "# areas affected by each hurricane\n",
    "areas_affected = [['Central America', 'Mexico', 'Cuba', 'Florida', 'The Bahamas'], ['Lesser Antilles', 'The Bahamas', 'United States East Coast', 'Atlantic Canada'], ['The Bahamas', 'Northeastern United States'], ['Lesser Antilles', 'Jamaica', 'Cayman Islands', 'Cuba', 'The Bahamas', 'Bermuda'], ['The Bahamas', 'Cuba', 'Florida', 'Texas', 'Tamaulipas'], ['Jamaica', 'Yucatn Peninsula'], ['The Bahamas', 'Florida', 'Georgia', 'The Carolinas', 'Virginia'], ['Southeastern United States', 'Northeastern United States', 'Southwestern Quebec'], ['Bermuda', 'New England', 'Atlantic Canada'], ['Lesser Antilles', 'Central America'], ['Texas', 'Louisiana', 'Midwestern United States'], ['Central America'], ['The Caribbean', 'Mexico', 'Texas'], ['Cuba', 'United States Gulf Coast'], ['The Caribbean', 'Central America', 'Mexico', 'United States Gulf Coast'], ['Mexico'], ['The Caribbean', 'United States East coast'], ['The Caribbean', 'Yucatn Peninsula', 'Mexico', 'South Texas'], ['Jamaica', 'Venezuela', 'Central America', 'Hispaniola', 'Mexico'], ['The Caribbean', 'United States East Coast'], ['The Bahamas', 'Florida', 'United States Gulf Coast'], ['Central America', 'Yucatn Peninsula', 'South Florida'], ['Greater Antilles', 'Bahamas', 'Eastern United States', 'Ontario'], ['The Caribbean', 'Venezuela', 'United States Gulf Coast'], ['Windward Islands', 'Jamaica', 'Mexico', 'Texas'], ['Bahamas', 'United States Gulf Coast'], ['Cuba', 'United States Gulf Coast'], ['Greater Antilles', 'Central America', 'Florida'], ['The Caribbean', 'Central America'], ['Nicaragua', 'Honduras'], ['Antilles', 'Venezuela', 'Colombia', 'United States East Coast', 'Atlantic Canada'], ['Cape Verde', 'The Caribbean', 'British Virgin Islands', 'U.S. Virgin Islands', 'Cuba', 'Florida'], ['Lesser Antilles', 'Virgin Islands', 'Puerto Rico', 'Dominican Republic', 'Turks and Caicos Islands'], ['Central America', 'United States Gulf Coast (especially Florida Panhandle)']]\n",
    "\n",
    "# damages (USD($)) of hurricanes\n",
    "damages = ['Damages not recorded', '100M', 'Damages not recorded', '40M', '27.9M', '5M', 'Damages not recorded', '306M', '2M', '65.8M', '326M', '60.3M', '208M', '1.42B', '25.4M', 'Damages not recorded', '1.54B', '1.24B', '7.1B', '10B', '26.5B', '6.2B', '5.37B', '23.3B', '1.01B', '125B', '12B', '29.4B', '1.76B', '720M', '15.1B', '64.8B', '91.6B', '25.1B']\n",
    "\n",
    "# deaths for each hurricane\n",
    "deaths = [90,4000,16,3103,179,184,408,682,5,1023,43,319,688,259,37,11,2068,269,318,107,65,19325,51,124,17,1836,125,87,45,133,603,138,3057,74]\n"
   ]
  },
  {
   "cell_type": "code",
   "execution_count": 152,
   "id": "0d4ea558",
   "metadata": {},
   "outputs": [],
   "source": [
    "#convert damages\n",
    "def damages_conversion(damages): \n",
    "    conversion = {\"M\": 1000000,\n",
    "               \"B\": 1000000000}\n",
    "    updated_damages = list()\n",
    "    for i in damages: \n",
    "        if i == 'Damages not recorded': \n",
    "            updated_damages.append(i)\n",
    "        elif i.find('M') != -1: \n",
    "            updated_damages.append(float(i[0:i.find('M')])*conversion[\"M\"])\n",
    "        elif i.find('B') != -1: \n",
    "            updated_damages.append(float(i[0:i.find('B')])*conversion[\"B\"])\n",
    "    return updated_damages        "
   ]
  },
  {
   "cell_type": "code",
   "execution_count": 153,
   "id": "257715cc",
   "metadata": {
    "scrolled": true
   },
   "outputs": [
    {
     "name": "stdout",
     "output_type": "stream",
     "text": [
      "['Damages not recorded', 100000000.0, 'Damages not recorded', 40000000.0, 27900000.0, 5000000.0, 'Damages not recorded', 306000000.0, 2000000.0, 65800000.0, 326000000.0, 60300000.0, 208000000.0, 1420000000.0, 25400000.0, 'Damages not recorded', 1540000000.0, 1240000000.0, 7100000000.0, 10000000000.0, 26500000000.0, 6200000000.0, 5370000000.0, 23300000000.0, 1010000000.0, 125000000000.0, 12000000000.0, 29400000000.0, 1760000000.0, 720000000.0, 15100000000.0, 64800000000.0, 91600000000.0, 25100000000.0]\n"
     ]
    }
   ],
   "source": [
    "updated_damages = print(damages_conversion(damages))"
   ]
  },
  {
   "cell_type": "code",
   "execution_count": 139,
   "id": "bb9c231c",
   "metadata": {},
   "outputs": [],
   "source": [
    "#create hurricane dictionary \n",
    "def hurricane_dict(names, months, years, max_sustained_winds, areas_affected, updated_damages, deaths):\n",
    "    hurricanes = dict()\n",
    "    for i in range(len(names)): \n",
    "        hurricanes[names[i]] = {'Name': names[i], 'Month': months[i], 'Year': years[i], 'Max Sustained Winds': max_sustained_winds[i], \n",
    "                               'Areas Affected': areas_affected[i], 'Damage': updated_damages[i], 'Deaths': deaths[i]}\n",
    "    return hurricanes"
   ]
  },
  {
   "cell_type": "code",
   "execution_count": 21,
   "id": "25e46bb7",
   "metadata": {},
   "outputs": [],
   "source": [
    "hurricanes = hurricane_dict(names, months, years, max_sustained_winds, areas_affected, updated_damages, deaths)"
   ]
  },
  {
   "cell_type": "code",
   "execution_count": 42,
   "id": "cf32b3b8",
   "metadata": {},
   "outputs": [],
   "source": [
    "#create dictionary of hurricane by year from current \"hurricanes\" dictionary\n",
    "def hurricane_by_year(hurricanes): \n",
    "    hurricane_by_year = dict()\n",
    "    for i in hurricanes: \n",
    "        hurricane_year = hurricanes[i]['Year']\n",
    "        hurricane_data = hurricanes[i]\n",
    "        if hurricane_year not in hurricane_by_year: \n",
    "            hurricane_by_year[hurricane_year] = [hurricane_data]\n",
    "        else: \n",
    "            hurricane_by_year[hurricane_year].append(hurricane_data)\n",
    "    return hurricane_by_year"
   ]
  },
  {
   "cell_type": "code",
   "execution_count": 25,
   "id": "f9cd5734",
   "metadata": {},
   "outputs": [],
   "source": [
    "#create dictionary of areas affected and the number of times they were hit by storms\n",
    "def affected_area_count(hurricaness): \n",
    "    affected_area_count = dict()\n",
    "    for i in hurricanes:\n",
    "        for area in hurricanes[i]['Areas Affected']:\n",
    "            if area not in affected_area_count: \n",
    "                affected_area_count[area] = 1\n",
    "            else: \n",
    "                affected_area_count[area] += 1\n",
    "    return affected_area_count        "
   ]
  },
  {
   "cell_type": "code",
   "execution_count": 27,
   "id": "e5659ca0",
   "metadata": {},
   "outputs": [],
   "source": [
    "affected_area_frequency = affected_area_count(hurricanes)"
   ]
  },
  {
   "cell_type": "code",
   "execution_count": 34,
   "id": "89578d4a",
   "metadata": {},
   "outputs": [],
   "source": [
    "#show the area most affected by hurricanes\n",
    "def most_affected_area(affected_area_frequency): \n",
    "    affected_area = ''\n",
    "    affected_area_count = 0\n",
    "    for i in affected_area_frequency:\n",
    "        if affected_area_frequency[i] > affected_area_count: \n",
    "            affected_area = i\n",
    "            affected_area_count = affected_area_frequency[i]\n",
    "    return affected_area, affected_area_count       "
   ]
  },
  {
   "cell_type": "code",
   "execution_count": 35,
   "id": "3f5a2512",
   "metadata": {},
   "outputs": [
    {
     "name": "stdout",
     "output_type": "stream",
     "text": [
      "('Central America', 9)\n"
     ]
    }
   ],
   "source": [
    "most_hit_area = print(most_affected_area(affected_area_frequency))"
   ]
  },
  {
   "cell_type": "code",
   "execution_count": 38,
   "id": "c1c53190",
   "metadata": {},
   "outputs": [],
   "source": [
    "#show what the most deadly hurricane from list is\n",
    "def most_deadly_hurricane(hurricanes):\n",
    "    most_deadly_hurricane = ''\n",
    "    death_count = 0\n",
    "    for i in hurricanes: \n",
    "        if hurricanes[i]['Deaths'] > death_count: \n",
    "            most_deadly_hurricane = i\n",
    "            death_count = hurricanes[i]['Deaths']\n",
    "    return most_deadly_hurricane, death_count\n",
    "            "
   ]
  },
  {
   "cell_type": "code",
   "execution_count": 39,
   "id": "af7b0c7a",
   "metadata": {},
   "outputs": [
    {
     "name": "stdout",
     "output_type": "stream",
     "text": [
      "('Mitch', 19325)\n"
     ]
    }
   ],
   "source": [
    "deadlist_hurricane = print(most_deadly_hurricane(hurricanes))"
   ]
  },
  {
   "cell_type": "code",
   "execution_count": 43,
   "id": "b1c329f7",
   "metadata": {},
   "outputs": [],
   "source": [
    "#assign hurricanes to mortality scale\n",
    "def mortality_scale(hurricanes): \n",
    "    hurricane_mortality_rating = dict()\n",
    "    for i in hurricanes: \n",
    "        mortality_rating = ''\n",
    "        death_count = hurricanes[i]['Deaths']\n",
    "        hurricane_data = hurricanes[i]\n",
    "        if death_count < 100: \n",
    "            mortality_rating = 0\n",
    "        elif death_count >= 100 and death_count < 500: \n",
    "            mortality_rating = 1\n",
    "        elif death_count >= 500 and death_count < 1000: \n",
    "            mortality_rating = 2\n",
    "        elif death_count >= 1000 and death_count < 10000: \n",
    "            mortality_rating = 3\n",
    "        elif death_count >= 10000: \n",
    "            mortality_rating = 4\n",
    "        \n",
    "        if mortality_rating not in hurricane_mortality_rating: \n",
    "            hurricane_mortality_rating[mortality_rating] = [hurricane_data]\n",
    "        else: \n",
    "            hurricane_mortality_rating[mortality_rating].append(hurricane_data)\n",
    "    return hurricane_mortality_rating"
   ]
  },
  {
   "cell_type": "code",
   "execution_count": 45,
   "id": "f0cc0a90",
   "metadata": {},
   "outputs": [],
   "source": [
    "hurricane_mortality = mortality_scale(hurricanes)"
   ]
  },
  {
   "cell_type": "code",
   "execution_count": 154,
   "id": "d87d272d",
   "metadata": {},
   "outputs": [],
   "source": [
    "def most_expensive_hurricane(hurricanes):\n",
    "    most_expensive_hurricane = ''\n",
    "    damage_cost = 0\n",
    "    for i in hurricanes:\n",
    "        if hurricanes[i]['Damage'] == 'Damages not recorded':\n",
    "            continue\n",
    "        if hurricanes[i]['Damage'] > damage_cost:\n",
    "            most_expensive_hurricane = i\n",
    "            damage_cost = hurricanes[i]['Damage']\n",
    "    return most_expensive_hurricane, damage_cost"
   ]
  },
  {
   "cell_type": "code",
   "execution_count": null,
   "id": "e4e6caff",
   "metadata": {},
   "outputs": [],
   "source": []
  },
  {
   "cell_type": "code",
   "execution_count": 155,
   "id": "8d883e3d",
   "metadata": {},
   "outputs": [
    {
     "ename": "TypeError",
     "evalue": "'>' not supported between instances of 'str' and 'float'",
     "output_type": "error",
     "traceback": [
      "\u001b[1;31m---------------------------------------------------------------------------\u001b[0m",
      "\u001b[1;31mTypeError\u001b[0m                                 Traceback (most recent call last)",
      "\u001b[1;32m~\\AppData\\Local\\Temp/ipykernel_3584/1413778045.py\u001b[0m in \u001b[0;36m<module>\u001b[1;34m\u001b[0m\n\u001b[1;32m----> 1\u001b[1;33m \u001b[0mmost_expensive_hurricane\u001b[0m\u001b[1;33m,\u001b[0m \u001b[0mdamage_cost\u001b[0m \u001b[1;33m=\u001b[0m \u001b[0mprint\u001b[0m\u001b[1;33m(\u001b[0m\u001b[0mmost_expensive_hurricane\u001b[0m\u001b[1;33m(\u001b[0m\u001b[0mhurricanes\u001b[0m\u001b[1;33m)\u001b[0m\u001b[1;33m)\u001b[0m\u001b[1;33m\u001b[0m\u001b[1;33m\u001b[0m\u001b[0m\n\u001b[0m",
      "\u001b[1;32m~\\AppData\\Local\\Temp/ipykernel_3584/3607916634.py\u001b[0m in \u001b[0;36mmost_expensive_hurricane\u001b[1;34m(hurricanes)\u001b[0m\n\u001b[0;32m      5\u001b[0m         \u001b[1;32mif\u001b[0m \u001b[0mhurricanes\u001b[0m\u001b[1;33m[\u001b[0m\u001b[0mi\u001b[0m\u001b[1;33m]\u001b[0m\u001b[1;33m[\u001b[0m\u001b[1;34m'Damage'\u001b[0m\u001b[1;33m]\u001b[0m \u001b[1;33m==\u001b[0m \u001b[1;34m'Damages not recorded'\u001b[0m\u001b[1;33m:\u001b[0m\u001b[1;33m\u001b[0m\u001b[1;33m\u001b[0m\u001b[0m\n\u001b[0;32m      6\u001b[0m             \u001b[1;32mcontinue\u001b[0m\u001b[1;33m\u001b[0m\u001b[1;33m\u001b[0m\u001b[0m\n\u001b[1;32m----> 7\u001b[1;33m         \u001b[1;32mif\u001b[0m \u001b[0mhurricanes\u001b[0m\u001b[1;33m[\u001b[0m\u001b[0mi\u001b[0m\u001b[1;33m]\u001b[0m\u001b[1;33m[\u001b[0m\u001b[1;34m'Damage'\u001b[0m\u001b[1;33m]\u001b[0m \u001b[1;33m>\u001b[0m \u001b[0mdamage_cost\u001b[0m\u001b[1;33m:\u001b[0m\u001b[1;33m\u001b[0m\u001b[1;33m\u001b[0m\u001b[0m\n\u001b[0m\u001b[0;32m      8\u001b[0m             \u001b[0mmost_expensive_hurricane\u001b[0m \u001b[1;33m=\u001b[0m \u001b[0mi\u001b[0m\u001b[1;33m\u001b[0m\u001b[1;33m\u001b[0m\u001b[0m\n\u001b[0;32m      9\u001b[0m             \u001b[0mdamage_cost\u001b[0m \u001b[1;33m=\u001b[0m \u001b[0mhurricanes\u001b[0m\u001b[1;33m[\u001b[0m\u001b[0mi\u001b[0m\u001b[1;33m]\u001b[0m\u001b[1;33m[\u001b[0m\u001b[1;34m'Damage'\u001b[0m\u001b[1;33m]\u001b[0m\u001b[1;33m\u001b[0m\u001b[1;33m\u001b[0m\u001b[0m\n",
      "\u001b[1;31mTypeError\u001b[0m: '>' not supported between instances of 'str' and 'float'"
     ]
    }
   ],
   "source": [
    "most_expensive_hurricane, damage_cost = print(most_expensive_hurricane(hurricanes))"
   ]
  },
  {
   "cell_type": "code",
   "execution_count": null,
   "id": "89ef7ead",
   "metadata": {},
   "outputs": [],
   "source": []
  }
 ],
 "metadata": {
  "kernelspec": {
   "display_name": "Python 3 (ipykernel)",
   "language": "python",
   "name": "python3"
  },
  "language_info": {
   "codemirror_mode": {
    "name": "ipython",
    "version": 3
   },
   "file_extension": ".py",
   "mimetype": "text/x-python",
   "name": "python",
   "nbconvert_exporter": "python",
   "pygments_lexer": "ipython3",
   "version": "3.9.7"
  }
 },
 "nbformat": 4,
 "nbformat_minor": 5
}
